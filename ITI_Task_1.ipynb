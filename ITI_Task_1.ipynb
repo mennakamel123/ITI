{
  "nbformat": 4,
  "nbformat_minor": 0,
  "metadata": {
    "colab": {
      "provenance": []
    },
    "kernelspec": {
      "name": "python3",
      "display_name": "Python 3"
    },
    "language_info": {
      "name": "python"
    }
  },
  "cells": [
    {
      "cell_type": "code",
      "execution_count": 4,
      "metadata": {
        "colab": {
          "base_uri": "https://localhost:8080/"
        },
        "id": "ApBKun6-JlYP",
        "outputId": "34f2a036-a91e-44b6-dbce-f8e93ea546b4"
      },
      "outputs": [
        {
          "output_type": "stream",
          "name": "stdout",
          "text": [
            "Enter a string: Program is useful\n",
            "Number of vowels: 6\n"
          ]
        }
      ],
      "source": [
        "# 1. Write a program that counts up the number of vowels [a, e, i, o, u] contained in the string.\n",
        "\n",
        "def count_vowels(text):\n",
        "    return sum(1 for char in text.lower() if char in \"aeiou\")\n",
        "\n",
        "input_string = input(\"Enter a string: \")\n",
        "print(\"Number of vowels:\", count_vowels(input_string))"
      ]
    },
    {
      "cell_type": "code",
      "source": [
        "# 2. Write a program that remove all vowels from the input word and generate a brief version of it.\n",
        "\n",
        "def remove_vowels(word):\n",
        "    return ''.join(char for char in word if char.lower() not in \"aeiou\")\n",
        "\n",
        "input_word = input(\"Enter a word: \")\n",
        "print(\"Word without vowels:\", remove_vowels(input_word))\n"
      ],
      "metadata": {
        "colab": {
          "base_uri": "https://localhost:8080/"
        },
        "id": "x_1FgtLnKJhp",
        "outputId": "751b389f-fd4b-4526-a3f3-1cc244fa46e1"
      },
      "execution_count": 27,
      "outputs": [
        {
          "output_type": "stream",
          "name": "stdout",
          "text": [
            "Enter a word: useful\n",
            "Word without vowels: sfl\n"
          ]
        }
      ]
    },
    {
      "cell_type": "code",
      "source": [
        "# 3. Build a simple Python game where two players compete by rolling dice over multiple rounds.\n",
        "#The goal is to have the highest total score after all rounds.\n",
        "\n",
        "import random\n",
        "\n",
        "player1_score = 0\n",
        "player2_score = 0\n",
        "rounds = 3\n",
        "\n",
        "for r in range(1, rounds + 1):\n",
        "    print(f\"--Round {r}--\\n\")\n",
        "\n",
        "\n",
        "    roll1 = random.randint(1, 6) + random.randint(1, 6)\n",
        "    player1_score += roll1\n",
        "    print(f\"  Player 1 rolled {roll1} , Total: {player1_score}\")\n",
        "\n",
        "\n",
        "    roll2 = random.randint(1, 6) + random.randint(1, 6)\n",
        "    player2_score += roll2\n",
        "    print(f\"  Player 2 rolled {roll2} , Total: {player2_score}\\n\")\n",
        "\n",
        "print(\"--Final Scores--\\n\")\n",
        "print(\"  Player 1:\", player1_score)\n",
        "print(\"  Player 2:\", player2_score)\n",
        "\n",
        "if player1_score > player2_score:\n",
        "    print(\"\\nState: Player 1 wins!\")\n",
        "elif player2_score > player1_score:\n",
        "    print(\"\\nState: Player 2 wins!\")\n",
        "else:\n",
        "    print(\"It's a tie!\")\n"
      ],
      "metadata": {
        "colab": {
          "base_uri": "https://localhost:8080/"
        },
        "id": "2IhNUJTuKyAF",
        "outputId": "92766c8c-852d-41ec-b1ef-a8736cf9edb4"
      },
      "execution_count": 26,
      "outputs": [
        {
          "output_type": "stream",
          "name": "stdout",
          "text": [
            "--Round 1--\n",
            "\n",
            "  Player 1 rolled 7 , Total: 7\n",
            "  Player 2 rolled 8 , Total: 8\n",
            "\n",
            "--Round 2--\n",
            "\n",
            "  Player 1 rolled 10 , Total: 17\n",
            "  Player 2 rolled 4 , Total: 12\n",
            "\n",
            "--Round 3--\n",
            "\n",
            "  Player 1 rolled 5 , Total: 22\n",
            "  Player 2 rolled 6 , Total: 18\n",
            "\n",
            "--Final Scores--\n",
            "\n",
            "  Player 1: 22\n",
            "  Player 2: 18\n",
            "\n",
            "State: Player 1 wins!\n"
          ]
        }
      ]
    },
    {
      "cell_type": "code",
      "source": [
        "# 4. Write a program which repeatedly reads numbers until the user enters “done”.\n",
        "#Once “done” is entered, print out the total, count, and average of the numbers.\n",
        "#If the user enters anything other than a number, detect their mistake, print an error message and skip to the next number.\n",
        "\n",
        "total = 0\n",
        "count = 0\n",
        "\n",
        "while True:\n",
        "    x = input(\"Enter a number (or 'done' to finish): \")\n",
        "\n",
        "    if x.lower() == \"done\":\n",
        "        break\n",
        "\n",
        "    try:\n",
        "        num = float(x)\n",
        "        total += num\n",
        "        count += 1\n",
        "    except:\n",
        "        print(\"Error Message: Invalid input\")\n",
        "\n",
        "if count > 0:\n",
        "    print(\"Total:\", total)\n",
        "    print(\"Count:\", count)\n",
        "    print(\"Average:\", total / count)\n",
        "else:\n",
        "    print(\"No numbers were entered.\")\n"
      ],
      "metadata": {
        "colab": {
          "base_uri": "https://localhost:8080/"
        },
        "id": "ms46H50oN0jL",
        "outputId": "1f8cbab7-1aea-412b-cbb3-edd3b221c0e5"
      },
      "execution_count": 30,
      "outputs": [
        {
          "output_type": "stream",
          "name": "stdout",
          "text": [
            "Enter a number (or 'done' to finish): 1\n",
            "Enter a number (or 'done' to finish): 5\n",
            "Enter a number (or 'done' to finish): 8\n",
            "Enter a number (or 'done' to finish): 98\n",
            "Enter a number (or 'done' to finish): a\n",
            "Error Message: Invalid input\n",
            "Enter a number (or 'done' to finish): 2\n",
            "Enter a number (or 'done' to finish): dobe\n",
            "Error Message: Invalid input\n",
            "Enter a number (or 'done' to finish): done\n",
            "Total: 114.0\n",
            "Count: 5\n",
            "Average: 22.8\n"
          ]
        }
      ]
    }
  ]
}