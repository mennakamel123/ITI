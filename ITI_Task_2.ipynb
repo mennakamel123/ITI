{
  "nbformat": 4,
  "nbformat_minor": 0,
  "metadata": {
    "colab": {
      "provenance": []
    },
    "kernelspec": {
      "name": "python3",
      "display_name": "Python 3"
    },
    "language_info": {
      "name": "python"
    }
  },
  "cells": [
    {
      "cell_type": "code",
      "execution_count": 5,
      "metadata": {
        "colab": {
          "base_uri": "https://localhost:8080/"
        },
        "id": "wMBjc1-phRoQ",
        "outputId": "cd739f10-7409-4126-de96-284c219fe1de"
      },
      "outputs": [
        {
          "output_type": "stream",
          "name": "stdout",
          "text": [
            "\n",
            "--- Student Grade System ---\n",
            "1. Add student\n",
            "2. Search student\n",
            "3. Calculate average grade\n",
            "4. Exit\n",
            "Enter your choice (1-4): menna\n",
            "Invalid choice.Please select from 1 to 4.\n",
            "\n",
            "--- Student Grade System ---\n",
            "1. Add student\n",
            "2. Search student\n",
            "3. Calculate average grade\n",
            "4. Exit\n",
            "Enter your choice (1-4): 1\n",
            "Enter student name: menna\n",
            "Enter student grade: 69\n",
            "Student 'menna' with grade 69.0 added successfully.\n",
            "\n",
            "--- Student Grade System ---\n",
            "1. Add student\n",
            "2. Search student\n",
            "3. Calculate average grade\n",
            "4. Exit\n",
            "Enter your choice (1-4): 1\n",
            "Enter student name: maha\n",
            "Enter student grade: 40\n",
            "Student 'maha' with grade 40.0 added successfully.\n",
            "\n",
            "--- Student Grade System ---\n",
            "1. Add student\n",
            "2. Search student\n",
            "3. Calculate average grade\n",
            "4. Exit\n",
            "Enter your choice (1-4): 2\n",
            "Enter student name to search: menna\n",
            "menna's grade is: 69.0\n",
            "\n",
            "--- Student Grade System ---\n",
            "1. Add student\n",
            "2. Search student\n",
            "3. Calculate average grade\n",
            "4. Exit\n",
            "Enter your choice (1-4): 3\n",
            "Average grade of all students: 54.50\n",
            "\n",
            "--- Student Grade System ---\n",
            "1. Add student\n",
            "2. Search student\n",
            "3. Calculate average grade\n",
            "4. Exit\n",
            "Enter your choice (1-4): 4\n",
            "Exiting program\n"
          ]
        }
      ],
      "source": [
        "# 1. Student Grade System\n",
        "\n",
        "def menu():\n",
        "    students = {}\n",
        "\n",
        "    while True:\n",
        "        print(\"\\n--- Student Grade System ---\")\n",
        "        print(\"1. Add student\")\n",
        "        print(\"2. Search student\")\n",
        "        print(\"3. Calculate average grade\")\n",
        "        print(\"4. Exit\")\n",
        "\n",
        "        choice = input(\"Enter your choice (1-4): \")\n",
        "\n",
        "        if choice == '1':\n",
        "            name = input(\"Enter student name: \").strip()\n",
        "            try:\n",
        "                grade = float(input(\"Enter student grade: \"))\n",
        "                students[name] = grade\n",
        "                print(f\"Student '{name}' with grade {grade} added successfully.\")\n",
        "            except ValueError:\n",
        "                print(\"Invalid grade.Please enter a numeric value.\")\n",
        "\n",
        "        elif choice == '2':\n",
        "            name = input(\"Enter student name to search: \").strip()\n",
        "            if name in students:\n",
        "                print(f\"{name}'s grade is: {students[name]}\")\n",
        "            else:\n",
        "                print(f\"Student '{name}' not found.\")\n",
        "\n",
        "        elif choice == '3':\n",
        "            if students:\n",
        "                average = sum(students.values()) / len(students)\n",
        "                print(f\"Average grade of all students: {average:.2f}\")\n",
        "            else:\n",
        "                print(\"No students to calculate average grade.\")\n",
        "\n",
        "        elif choice == '4':\n",
        "            print(\"Exiting program\")\n",
        "            break\n",
        "\n",
        "        else:\n",
        "            print(\"Invalid choice.Please select from 1 to 4.\")\n",
        "\n",
        "if __name__ == \"__main__\":\n",
        "    menu()\n"
      ]
    },
    {
      "cell_type": "code",
      "source": [
        "# 2. String Compression\n",
        "\n",
        "def compress_string(s):\n",
        "    compressed = \"\"\n",
        "    i = 0\n",
        "    while i < len(s):\n",
        "        count = 1\n",
        "        while i + 1 < len(s) and s[i] == s[i+1]:\n",
        "            count += 1\n",
        "            i += 1\n",
        "        compressed += s[i] + str(count)\n",
        "        i += 1\n",
        "    return compressed\n",
        "\n",
        "print(compress_string(\"aaabccdddda\"))"
      ],
      "metadata": {
        "colab": {
          "base_uri": "https://localhost:8080/"
        },
        "id": "PwlfyA7zhSUk",
        "outputId": "552f800e-87e3-446e-d77f-88d22bec4416"
      },
      "execution_count": 4,
      "outputs": [
        {
          "output_type": "stream",
          "name": "stdout",
          "text": [
            "a3b1c2d4a1\n"
          ]
        }
      ]
    }
  ]
}